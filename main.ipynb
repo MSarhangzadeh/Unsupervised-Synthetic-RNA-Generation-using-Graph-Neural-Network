{
 "cells": [
  {
   "cell_type": "code",
   "execution_count": 1,
   "id": "92bcebfb",
   "metadata": {},
   "outputs": [],
   "source": [
    "import os\n",
    "import pandas as pd\n",
    "import numpy as np\n",
    "import shutil\n",
    "\n",
    "\n",
    "import torch\n",
    "from sklearn.model_selection import train_test_split\n",
    "from torch_geometric.data import Data, InMemoryDataset\n",
    "\n",
    "from utils import load_and_filter_dataset, one_hot_encode_sequence, create_graph_from_sequence\n",
    "from dataset import PiRNADataset\n",
    "\n",
    "import networkx as nx\n",
    "import matplotlib.pyplot as plt"
   ]
  },
  {
   "cell_type": "code",
   "execution_count": 2,
   "id": "86d76e81",
   "metadata": {},
   "outputs": [
    {
     "name": "stderr",
     "output_type": "stream",
     "text": [
      "<>:1: SyntaxWarning: invalid escape sequence '\\D'\n",
      "<>:1: SyntaxWarning: invalid escape sequence '\\D'\n",
      "C:\\Users\\lenovo\\AppData\\Local\\Temp\\ipykernel_11668\\2234487913.py:1: SyntaxWarning: invalid escape sequence '\\D'\n",
      "  data = load_and_filter_dataset(\"data\\DASHR2_GEO_hg38_sequenceTable_export.csv\", save_filtered=True)\n",
      "c:\\Users\\lenovo\\Desktop\\RNAGEN\\utils.py:19: ParserWarning: Falling back to the 'python' engine because the 'c' engine does not support sep=None with delim_whitespace=False; you can avoid this warning by specifying engine='python'.\n",
      "  df = pd.read_csv(file_path, sep=None, header=None)\n"
     ]
    },
    {
     "name": "stdout",
     "output_type": "stream",
     "text": [
      "Warning: Found 1 non-numeric values in 'len' column. These rows will be excluded from filtering.\n",
      "Dataset Summary (Before Filtering):\n",
      "  Total entries: 65156\n",
      "  RNA types: 13\n",
      "rnaClass\n",
      "piRNA           50397\n",
      "snRNA            4509\n",
      "miRNAprimary     1881\n",
      "rRNA             1840\n",
      "scRNA            1420\n",
      "mir-3p            959\n",
      "mir-5p            957\n",
      "mir-5p3pno        897\n",
      "tRNA              631\n",
      "tRF3              631\n",
      "tRF5              631\n",
      "snoRNA            402\n",
      "rnaClass            1\n",
      "Name: count, dtype: int64\n",
      "-----------------------------------------\n",
      "Filtered Dataset:\n",
      "  Total piRNAs with length 26–32: 50397\n",
      "  Unique piRNA IDs: 23116\n",
      "  Length range in filtered data: 26.0 - 32.0\n",
      "Filtered data saved to data/filtered_piRNAs.csv\n"
     ]
    }
   ],
   "source": [
    "data = load_and_filter_dataset(\"data\\DASHR2_GEO_hg38_sequenceTable_export.csv\", save_filtered=True)"
   ]
  },
  {
   "cell_type": "code",
   "execution_count": 3,
   "id": "d37f0512",
   "metadata": {},
   "outputs": [
    {
     "name": "stderr",
     "output_type": "stream",
     "text": [
      "Processing...\n"
     ]
    },
    {
     "name": "stdout",
     "output_type": "stream",
     "text": [
      "Processing dataset...\n",
      "Created 50397 graphs.\n",
      "Dataset saved to dataset\\processed\\processed\\piRNA_graphs.pt\n",
      "\n",
      "Verifying Dataset:\n",
      "Number of graphs: 50397\n",
      "\n",
      "Graph 0 (Sequence: UCUACAAGGAUAAUCUGACCUGCAGGGU)\n",
      "Node Features Shape: torch.Size([32, 5])\n",
      "Node Features (first 5 rows):\n",
      "tensor([[0., 0., 0., 1., 0.],\n",
      "        [0., 1., 0., 0., 0.],\n",
      "        [0., 0., 0., 1., 0.],\n",
      "        [1., 0., 0., 0., 0.],\n",
      "        [0., 1., 0., 0., 0.]])\n",
      "Edge Indices Shape: torch.Size([2, 62])\n",
      "Edge Indices (first 10 columns):\n",
      "tensor([[0, 1, 1, 2, 2, 3, 3, 4, 4, 5],\n",
      "        [1, 0, 2, 1, 3, 2, 4, 3, 5, 4]])\n",
      "Decoded Sequence: UCUACAAGGAUAAUCUGACCUGCAGGGUXXXX\n",
      "Length Attribute: 28.0\n",
      "\n",
      "Graph 10 (Sequence: UGGUAGGCCCACAACUUCCCUAAGCCAAGC)\n",
      "Node Features Shape: torch.Size([32, 5])\n",
      "Node Features (first 5 rows):\n",
      "tensor([[0., 0., 0., 1., 0.],\n",
      "        [0., 0., 1., 0., 0.],\n",
      "        [0., 0., 1., 0., 0.],\n",
      "        [0., 0., 0., 1., 0.],\n",
      "        [1., 0., 0., 0., 0.]])\n",
      "Edge Indices Shape: torch.Size([2, 62])\n",
      "Edge Indices (first 10 columns):\n",
      "tensor([[0, 1, 1, 2, 2, 3, 3, 4, 4, 5],\n",
      "        [1, 0, 2, 1, 3, 2, 4, 3, 5, 4]])\n",
      "Decoded Sequence: UGGUAGGCCCACAACUUCCCUAAGCCAAGCXX\n",
      "Length Attribute: 30.0\n",
      "\n",
      "Graph 100 (Sequence: UACUGCCUCACAACAGCCUCCACAGGC)\n",
      "Node Features Shape: torch.Size([32, 5])\n",
      "Node Features (first 5 rows):\n",
      "tensor([[0., 0., 0., 1., 0.],\n",
      "        [1., 0., 0., 0., 0.],\n",
      "        [0., 1., 0., 0., 0.],\n",
      "        [0., 0., 0., 1., 0.],\n",
      "        [0., 0., 1., 0., 0.]])\n",
      "Edge Indices Shape: torch.Size([2, 62])\n",
      "Edge Indices (first 10 columns):\n",
      "tensor([[0, 1, 1, 2, 2, 3, 3, 4, 4, 5],\n",
      "        [1, 0, 2, 1, 3, 2, 4, 3, 5, 4]])\n",
      "Decoded Sequence: UACUGCCUCACAACAGCCUCCACAGGCXXXXX\n",
      "Length Attribute: 27.0\n"
     ]
    },
    {
     "name": "stderr",
     "output_type": "stream",
     "text": [
      "Done!\n"
     ]
    }
   ],
   "source": [
    "output_dir = \"dataset/processed\"\n",
    "os.makedirs(output_dir, exist_ok=True)\n",
    "    \n",
    "dataset = PiRNADataset(root=output_dir, df=data)\n",
    "    \n",
    "print(\"\\nVerifying Dataset:\")\n",
    "print(f\"Number of graphs: {len(dataset)}\")\n",
    "    \n",
    "nucleotides = ['A', 'C', 'G', 'U', 'X']\n",
    "for idx in [0, 10, 100]:  \n",
    "    graph = dataset[idx]\n",
    "    sequence = data.iloc[idx]['seq']\n",
    "    decoded = ''.join([nucleotides[int(torch.argmax(row))] for row in graph.x])\n",
    "    print(f\"\\nGraph {idx} (Sequence: {sequence})\")\n",
    "    print(\"Node Features Shape:\", graph.x.shape)\n",
    "    print(\"Node Features (first 5 rows):\")\n",
    "    print(graph.x[:5])\n",
    "    print(\"Edge Indices Shape:\", graph.edge_index.shape)\n",
    "    print(\"Edge Indices (first 10 columns):\")\n",
    "    print(graph.edge_index[:, :10])\n",
    "    print(\"Decoded Sequence:\", decoded)\n",
    "    print(\"Length Attribute:\", graph.y.item())"
   ]
  },
  {
   "cell_type": "code",
   "execution_count": null,
   "id": "15c83ef8",
   "metadata": {},
   "outputs": [],
   "source": []
  }
 ],
 "metadata": {
  "kernelspec": {
   "display_name": "mmd",
   "language": "python",
   "name": "python3"
  },
  "language_info": {
   "codemirror_mode": {
    "name": "ipython",
    "version": 3
   },
   "file_extension": ".py",
   "mimetype": "text/x-python",
   "name": "python",
   "nbconvert_exporter": "python",
   "pygments_lexer": "ipython3",
   "version": "3.12.9"
  }
 },
 "nbformat": 4,
 "nbformat_minor": 5
}
